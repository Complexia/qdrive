{
 "cells": [
  {
   "cell_type": "code",
   "execution_count": 17,
   "metadata": {},
   "outputs": [
    {
     "data": {
      "text/plain": [
       "True"
      ]
     },
     "execution_count": 17,
     "metadata": {},
     "output_type": "execute_result"
    }
   ],
   "source": [
    "from langchain.agents import Tool\n",
    "from langchain.agents import AgentType\n",
    "from langchain.memory import ConversationBufferMemory\n",
    "from langchain.tools import tool\n",
    "from langchain import OpenAI\n",
    "from langchain.utilities import SerpAPIWrapper\n",
    "from langchain.agents import initialize_agent\n",
    "from typing import Optional\n",
    "import requests\n",
    "from langchain.tools.base import StructuredTool\n",
    "from dotenv import load_dotenv\n",
    "import os\n",
    "import time\n",
    "# Load environment variables from .env file\n",
    "load_dotenv()"
   ]
  },
  {
   "cell_type": "code",
   "execution_count": 7,
   "metadata": {},
   "outputs": [],
   "source": []
  },
  {
   "cell_type": "code",
   "execution_count": 20,
   "metadata": {},
   "outputs": [],
   "source": [
    "@tool\n",
    "def post_message(url: str, body: dict, parameters: Optional[dict] = None) -> str:\n",
    "    \"\"\"Sends a POST request to the given url with the given body and parameters.\"\"\"\n",
    "    result = requests.post(url, json=body, params=parameters)\n",
    "    return f\"Status: {result.status_code} - {result.text}\""
   ]
  },
  {
   "cell_type": "code",
   "execution_count": 13,
   "metadata": {},
   "outputs": [],
   "source": [
    "import requests\n",
    "from langchain.tools import BaseTool\n",
    "from typing import List\n",
    "\n",
    "class IPFSUploadTool(BaseTool):\n",
    "    \n",
    "    name = \"IPFSUploadTool\"\n",
    "    description = \"\"\"Uploads files to IPFS using web3stroage.\n",
    "        The only paramater is paths, which is a list of paths such as the following. It will accept a list of paths in json format for files.\n",
    "will be returned is a json body\"\"\"\n",
    "\n",
    "    def _run(self, paths: str) -> str:\n",
    "        \"\"\"Uploads files to IPFS using web3stroage.\n",
    "        The only paramater is paths, which is a list of paths such as the following. It will accept a list of paths in json format for files.\n",
    "        [\"paths/blob.json\"]\n",
    "        What will be returned is a json body\n",
    "        \"\"\"\n",
    "        \n",
    "        payload = json.loads(paths)\n",
    "        base_url = \"http://localhost:3000/upload\"\n",
    "\n",
    "        result = requests.post(base_url, json=payload )\n",
    "        \n",
    "        return result.json()\n",
    "    \n",
    "    \n",
    "    def _arun(self, paths) -> str:\n",
    "        raise NotImplementedError(\"This tool does not support async\")"
   ]
  },
  {
   "cell_type": "code",
   "execution_count": 18,
   "metadata": {},
   "outputs": [],
   "source": [
    "from langchain.chat_models import ChatOpenAI\n",
    "from langchain.chains.conversation.memory import ConversationBufferWindowMemory\n",
    "\n",
    "api_key = os.getenv(\"OPENAI_API_KEY\")\n",
    "# initialize LLM (we use ChatOpenAI because we'll later define a `chat` agent)\n",
    "llm = ChatOpenAI(\n",
    "        openai_api_key=api_key,\n",
    "        temperature=0,\n",
    "        model_name='gpt-3.5-turbo'\n",
    ")\n",
    "\n",
    "# initialize conversational memory\n",
    "conversational_memory = ConversationBufferWindowMemory(\n",
    "        memory_key='chat_history',\n",
    "        k=5,\n",
    "        return_messages=True\n",
    ")\n"
   ]
  },
  {
   "cell_type": "code",
   "execution_count": null,
   "metadata": {},
   "outputs": [],
   "source": [
    "# from typing import Union\n",
    "\n",
    "# class CircumferenceTool(BaseTool):\n",
    "#     name = \"Circumference calculator\"\n",
    "#     description = \"use this tool when you need to calculate a circumference using the radius of a circle\"\n",
    "\n",
    "#     def _run(self, radius: Union[int, float]):\n",
    "#         return float(radius)*2.0*pi\n",
    "\n",
    "#     def _arun(self, radius: int):\n",
    "#         raise NotImplementedError(\"This tool does not support async\")\n"
   ]
  },
  {
   "cell_type": "code",
   "execution_count": 19,
   "metadata": {},
   "outputs": [],
   "source": [
    "from langchain.agents import initialize_agent\n",
    "\n",
    "tools = [IPFSUploadTool()]\n",
    "\n",
    "# initialize agent with tools\n",
    "agent = initialize_agent(\n",
    "    agent='chat-conversational-react-description',\n",
    "    tools=tools,\n",
    "    llm=llm,\n",
    "    verbose=True,\n",
    "    max_iterations=3,\n",
    "    early_stopping_method='generate',\n",
    "    memory=conversational_memory\n",
    ")\n"
   ]
  },
  {
   "cell_type": "code",
   "execution_count": 20,
   "metadata": {},
   "outputs": [
    {
     "name": "stdout",
     "output_type": "stream",
     "text": [
      "\n",
      "\n",
      "\u001b[1m> Entering new  chain...\u001b[0m\n",
      "\u001b[32;1m\u001b[1;3m{\n",
      "    \"action\": \"IPFSUploadTool\",\n",
      "    \"action_input\": \"{\\\"paths\\\": [{\\\"path\\\": \\\"paths/blob.json\\\"}]}\"\n",
      "}\u001b[0m\n",
      "Observation: \u001b[36;1m\u001b[1;3mbafybeif464sm7mbjkflhtwj2pjw7kii7oxm27euhu45a2rauy756zbs5ie\u001b[0m\n",
      "Thought:\u001b[32;1m\u001b[1;3m{\n",
      "    \"action\": \"Final Answer\",\n",
      "    \"action_input\": \"bafybeif464sm7mbjkflhtwj2pjw7kii7oxm27euhu45a2rauy756zbs5ie\"\n",
      "}\u001b[0m\n",
      "\n",
      "\u001b[1m> Finished chain.\u001b[0m\n"
     ]
    },
    {
     "data": {
      "text/plain": [
       "'bafybeif464sm7mbjkflhtwj2pjw7kii7oxm27euhu45a2rauy756zbs5ie'"
      ]
     },
     "execution_count": 20,
     "metadata": {},
     "output_type": "execute_result"
    }
   ],
   "source": [
    "agent.run(\"\"\"Can you uplad the files with this payload {\n",
    "    \"paths\": [\n",
    "        {\n",
    "            \"path\": \"paths/blob.json\"\n",
    "        }\n",
    "\n",
    "    ]\n",
    "} to IPFS please?\"\"\")"
   ]
  },
  {
   "cell_type": "code",
   "execution_count": null,
   "metadata": {},
   "outputs": [],
   "source": [
    "https://ipfs.io/ipfs/bafybeif464sm7mbjkflhtwj2pjw7kii7oxm27euhu45a2rauy756zbs5ie"
   ]
  }
 ],
 "metadata": {
  "kernelspec": {
   "display_name": "Python 3",
   "language": "python",
   "name": "python3"
  },
  "language_info": {
   "codemirror_mode": {
    "name": "ipython",
    "version": 3
   },
   "file_extension": ".py",
   "mimetype": "text/x-python",
   "name": "python",
   "nbconvert_exporter": "python",
   "pygments_lexer": "ipython3",
   "version": "3.10.6"
  },
  "orig_nbformat": 4
 },
 "nbformat": 4,
 "nbformat_minor": 2
}
